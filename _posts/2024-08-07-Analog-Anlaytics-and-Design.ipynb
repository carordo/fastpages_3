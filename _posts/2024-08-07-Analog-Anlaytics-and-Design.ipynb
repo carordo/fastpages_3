{
 "cells": [
  {
   "cell_type": "markdown",
   "metadata": {},
   "source": [
    "---\n",
    "layout: post\n",
    "title: 2024-08-07-Analog-Anlaytics-and-Design.md\n",
    "date: 2022-03-13 12:13:59.000000000 -04:00\n",
    "type: post\n",
    "parent_id: '0'\n",
    "published: true\n",
    "password: ''\n",
    "status: publish\n",
    "categories:\n",
    "- Machine Learning\n",
    "tags:\n",
    "- Analytics\n",
    "- Spatial Analysis\n",
    "meta:\n",
    "author: Carlos Ordonez\n",
    "permalink: /fastpages_3/machine%learning/2022/03/13/Data-Analysis-and-Prediction-of-Waterpoint-Functionality-Using-Spatial-and-Non-spatial-Machine-Learning-Models.html\n",
    "excerpt: Data Analysis and Prediction of Waterpoint Functionality Using  Spatial and Non-spatial Machine Learning Models."
   ]
  }
 ],
 "metadata": {
  "kernelspec": {
   "display_name": "Python 3",
   "language": "python",
   "name": "python3"
  },
  "language_info": {
   "codemirror_mode": {
    "name": "ipython",
    "version": 3
   },
   "file_extension": ".py",
   "mimetype": "text/x-python",
   "name": "python",
   "nbconvert_exporter": "python",
   "pygments_lexer": "ipython3",
   "version": "3.7.10"
  },
  "toc": {
   "base_numbering": 1,
   "nav_menu": {},
   "number_sections": true,
   "sideBar": true,
   "skip_h1_title": true,
   "title_cell": "Table of Contents",
   "title_sidebar": "Contents",
   "toc_cell": false,
   "toc_position": {},
   "toc_section_display": true,
   "toc_window_display": false
  }
 },
 "nbformat": 4,
 "nbformat_minor": 4
}
